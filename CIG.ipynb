{
 "cells": [
  {
   "cell_type": "markdown",
   "id": "36c4ada1-610f-4cb5-9b98-98ccd7f3c6cd",
   "metadata": {},
   "source": [
    "<h1></h1>"
   ]
  },
  {
   "cell_type": "code",
   "execution_count": 37,
   "id": "d4391a72-f5e2-4cd6-8521-5f4ce689e4af",
   "metadata": {},
   "outputs": [],
   "source": [
    "import pandas as pd\n",
    "import numpy as np\n",
    "import matplotlib.pyplot as plt\n",
    "import seaborn as sns\n",
    "import warnings\n",
    "warnings.filterwarnings('ignore')"
   ]
  },
  {
   "cell_type": "code",
   "execution_count": 38,
   "id": "fc0eebdb-f5d5-4b28-afe0-797b776a6ba8",
   "metadata": {},
   "outputs": [
    {
     "data": {
      "text/html": [
       "<div>\n",
       "<style scoped>\n",
       "    .dataframe tbody tr th:only-of-type {\n",
       "        vertical-align: middle;\n",
       "    }\n",
       "\n",
       "    .dataframe tbody tr th {\n",
       "        vertical-align: top;\n",
       "    }\n",
       "\n",
       "    .dataframe thead th {\n",
       "        text-align: right;\n",
       "    }\n",
       "</style>\n",
       "<table border=\"1\" class=\"dataframe\">\n",
       "  <thead>\n",
       "    <tr style=\"text-align: right;\">\n",
       "      <th></th>\n",
       "      <th>Date</th>\n",
       "      <th>Channel</th>\n",
       "      <th>Customer</th>\n",
       "      <th>Category</th>\n",
       "      <th>Product</th>\n",
       "      <th>Sales PCS</th>\n",
       "      <th>Sales Amount</th>\n",
       "      <th>Profit Margin</th>\n",
       "      <th>Date/Text</th>\n",
       "      <th>Day</th>\n",
       "    </tr>\n",
       "  </thead>\n",
       "  <tbody>\n",
       "    <tr>\n",
       "      <th>0</th>\n",
       "      <td>2020-01-15</td>\n",
       "      <td>Big Dealer</td>\n",
       "      <td>DISCOVERY</td>\n",
       "      <td>FAN</td>\n",
       "      <td>CFA00</td>\n",
       "      <td>50</td>\n",
       "      <td>36000</td>\n",
       "      <td>0.245860</td>\n",
       "      <td>15/01/2020</td>\n",
       "      <td>15</td>\n",
       "    </tr>\n",
       "    <tr>\n",
       "      <th>1</th>\n",
       "      <td>2020-01-13</td>\n",
       "      <td>Big Dealer</td>\n",
       "      <td>CLD</td>\n",
       "      <td>Emergency lights</td>\n",
       "      <td>EL009</td>\n",
       "      <td>100</td>\n",
       "      <td>88000</td>\n",
       "      <td>0.050950</td>\n",
       "      <td>13/01/2020</td>\n",
       "      <td>13</td>\n",
       "    </tr>\n",
       "    <tr>\n",
       "      <th>2</th>\n",
       "      <td>2020-01-13</td>\n",
       "      <td>Big Dealer</td>\n",
       "      <td>PHIL</td>\n",
       "      <td>FAN</td>\n",
       "      <td>CF087</td>\n",
       "      <td>50</td>\n",
       "      <td>204000</td>\n",
       "      <td>0.357727</td>\n",
       "      <td>13/01/2020</td>\n",
       "      <td>13</td>\n",
       "    </tr>\n",
       "    <tr>\n",
       "      <th>3</th>\n",
       "      <td>2020-01-13</td>\n",
       "      <td>Big Dealer</td>\n",
       "      <td>CLD</td>\n",
       "      <td>flashlight</td>\n",
       "      <td>TH258</td>\n",
       "      <td>20</td>\n",
       "      <td>50000</td>\n",
       "      <td>0.112817</td>\n",
       "      <td>13/01/2020</td>\n",
       "      <td>13</td>\n",
       "    </tr>\n",
       "    <tr>\n",
       "      <th>4</th>\n",
       "      <td>2020-01-13</td>\n",
       "      <td>Big Dealer</td>\n",
       "      <td>CLD</td>\n",
       "      <td>Camping lanterns</td>\n",
       "      <td>OL090</td>\n",
       "      <td>500</td>\n",
       "      <td>47000</td>\n",
       "      <td>0.177313</td>\n",
       "      <td>13/01/2020</td>\n",
       "      <td>13</td>\n",
       "    </tr>\n",
       "  </tbody>\n",
       "</table>\n",
       "</div>"
      ],
      "text/plain": [
       "        Date     Channel   Customer          Category Product  Sales PCS  \\\n",
       "0 2020-01-15  Big Dealer  DISCOVERY               FAN   CFA00         50   \n",
       "1 2020-01-13  Big Dealer        CLD  Emergency lights   EL009        100   \n",
       "2 2020-01-13  Big Dealer       PHIL               FAN   CF087         50   \n",
       "3 2020-01-13  Big Dealer        CLD        flashlight   TH258         20   \n",
       "4 2020-01-13  Big Dealer        CLD  Camping lanterns   OL090        500   \n",
       "\n",
       "   Sales Amount  Profit Margin   Date/Text  Day  \n",
       "0         36000       0.245860  15/01/2020   15  \n",
       "1         88000       0.050950  13/01/2020   13  \n",
       "2        204000       0.357727  13/01/2020   13  \n",
       "3         50000       0.112817  13/01/2020   13  \n",
       "4         47000       0.177313  13/01/2020   13  "
      ]
     },
     "execution_count": 38,
     "metadata": {},
     "output_type": "execute_result"
    }
   ],
   "source": [
    "df1 = pd.read_excel('Data.xlsx', sheet_name=\"Sales\", header=1)\n",
    "df1.head()"
   ]
  },
  {
   "cell_type": "code",
   "execution_count": 39,
   "id": "039897ed-6fbf-4581-809a-e750d1283537",
   "metadata": {},
   "outputs": [],
   "source": [
    "df1.drop(['Date/Text', 'Day', 'Category'], axis=1, inplace=True)"
   ]
  },
  {
   "cell_type": "code",
   "execution_count": 40,
   "id": "df916606-c554-4f94-a192-a26cf64a2491",
   "metadata": {},
   "outputs": [
    {
     "data": {
      "text/html": [
       "<div>\n",
       "<style scoped>\n",
       "    .dataframe tbody tr th:only-of-type {\n",
       "        vertical-align: middle;\n",
       "    }\n",
       "\n",
       "    .dataframe tbody tr th {\n",
       "        vertical-align: top;\n",
       "    }\n",
       "\n",
       "    .dataframe thead th {\n",
       "        text-align: right;\n",
       "    }\n",
       "</style>\n",
       "<table border=\"1\" class=\"dataframe\">\n",
       "  <thead>\n",
       "    <tr style=\"text-align: right;\">\n",
       "      <th></th>\n",
       "      <th>Date</th>\n",
       "      <th>Channel</th>\n",
       "      <th>Customer</th>\n",
       "      <th>Product</th>\n",
       "      <th>Sales PCS</th>\n",
       "      <th>Sales Amount</th>\n",
       "      <th>Profit Margin</th>\n",
       "    </tr>\n",
       "  </thead>\n",
       "  <tbody>\n",
       "    <tr>\n",
       "      <th>0</th>\n",
       "      <td>2020-01-15</td>\n",
       "      <td>Big Dealer</td>\n",
       "      <td>DISCOVERY</td>\n",
       "      <td>CFA00</td>\n",
       "      <td>50</td>\n",
       "      <td>36000</td>\n",
       "      <td>0.245860</td>\n",
       "    </tr>\n",
       "    <tr>\n",
       "      <th>1</th>\n",
       "      <td>2020-01-13</td>\n",
       "      <td>Big Dealer</td>\n",
       "      <td>CLD</td>\n",
       "      <td>EL009</td>\n",
       "      <td>100</td>\n",
       "      <td>88000</td>\n",
       "      <td>0.050950</td>\n",
       "    </tr>\n",
       "    <tr>\n",
       "      <th>2</th>\n",
       "      <td>2020-01-13</td>\n",
       "      <td>Big Dealer</td>\n",
       "      <td>PHIL</td>\n",
       "      <td>CF087</td>\n",
       "      <td>50</td>\n",
       "      <td>204000</td>\n",
       "      <td>0.357727</td>\n",
       "    </tr>\n",
       "    <tr>\n",
       "      <th>3</th>\n",
       "      <td>2020-01-13</td>\n",
       "      <td>Big Dealer</td>\n",
       "      <td>CLD</td>\n",
       "      <td>TH258</td>\n",
       "      <td>20</td>\n",
       "      <td>50000</td>\n",
       "      <td>0.112817</td>\n",
       "    </tr>\n",
       "    <tr>\n",
       "      <th>4</th>\n",
       "      <td>2020-01-13</td>\n",
       "      <td>Big Dealer</td>\n",
       "      <td>CLD</td>\n",
       "      <td>OL090</td>\n",
       "      <td>500</td>\n",
       "      <td>47000</td>\n",
       "      <td>0.177313</td>\n",
       "    </tr>\n",
       "  </tbody>\n",
       "</table>\n",
       "</div>"
      ],
      "text/plain": [
       "        Date     Channel   Customer Product  Sales PCS  Sales Amount  \\\n",
       "0 2020-01-15  Big Dealer  DISCOVERY   CFA00         50         36000   \n",
       "1 2020-01-13  Big Dealer        CLD   EL009        100         88000   \n",
       "2 2020-01-13  Big Dealer       PHIL   CF087         50        204000   \n",
       "3 2020-01-13  Big Dealer        CLD   TH258         20         50000   \n",
       "4 2020-01-13  Big Dealer        CLD   OL090        500         47000   \n",
       "\n",
       "   Profit Margin  \n",
       "0       0.245860  \n",
       "1       0.050950  \n",
       "2       0.357727  \n",
       "3       0.112817  \n",
       "4       0.177313  "
      ]
     },
     "execution_count": 40,
     "metadata": {},
     "output_type": "execute_result"
    }
   ],
   "source": [
    "df1.head()"
   ]
  },
  {
   "cell_type": "code",
   "execution_count": 42,
   "id": "d7cadd9e-4cff-4ae7-91c5-019dc69ca931",
   "metadata": {},
   "outputs": [
    {
     "name": "stdout",
     "output_type": "stream",
     "text": [
      "<class 'pandas.core.frame.DataFrame'>\n",
      "RangeIndex: 200 entries, 0 to 199\n",
      "Data columns (total 7 columns):\n",
      " #   Column         Non-Null Count  Dtype         \n",
      "---  ------         --------------  -----         \n",
      " 0   Date           200 non-null    datetime64[ns]\n",
      " 1   Channel        200 non-null    object        \n",
      " 2   Customer       200 non-null    object        \n",
      " 3   Product        200 non-null    object        \n",
      " 4   Sales PCS      200 non-null    int64         \n",
      " 5   Sales Amount   200 non-null    int64         \n",
      " 6   Profit Margin  200 non-null    float64       \n",
      "dtypes: datetime64[ns](1), float64(1), int64(2), object(3)\n",
      "memory usage: 11.1+ KB\n"
     ]
    }
   ],
   "source": [
    "df1.info()"
   ]
  },
  {
   "cell_type": "code",
   "execution_count": 43,
   "id": "3c73113c-10c8-48e8-ac57-78ff64f36140",
   "metadata": {},
   "outputs": [
    {
     "data": {
      "text/plain": [
       "((200, 7), 1400)"
      ]
     },
     "execution_count": 43,
     "metadata": {},
     "output_type": "execute_result"
    }
   ],
   "source": [
    "df1.shape, df1.size"
   ]
  },
  {
   "cell_type": "code",
   "execution_count": 45,
   "id": "5624b4ce-e4fe-4ec9-a5fc-f6a873573fef",
   "metadata": {},
   "outputs": [
    {
     "data": {
      "text/html": [
       "<div>\n",
       "<style scoped>\n",
       "    .dataframe tbody tr th:only-of-type {\n",
       "        vertical-align: middle;\n",
       "    }\n",
       "\n",
       "    .dataframe tbody tr th {\n",
       "        vertical-align: top;\n",
       "    }\n",
       "\n",
       "    .dataframe thead th {\n",
       "        text-align: right;\n",
       "    }\n",
       "</style>\n",
       "<table border=\"1\" class=\"dataframe\">\n",
       "  <thead>\n",
       "    <tr style=\"text-align: right;\">\n",
       "      <th></th>\n",
       "      <th>count</th>\n",
       "      <th>mean</th>\n",
       "      <th>min</th>\n",
       "      <th>25%</th>\n",
       "      <th>50%</th>\n",
       "      <th>75%</th>\n",
       "      <th>max</th>\n",
       "      <th>std</th>\n",
       "    </tr>\n",
       "  </thead>\n",
       "  <tbody>\n",
       "    <tr>\n",
       "      <th>Date</th>\n",
       "      <td>200</td>\n",
       "      <td>2020-01-16 14:31:12</td>\n",
       "      <td>2020-01-13 00:00:00</td>\n",
       "      <td>2020-01-13 00:00:00</td>\n",
       "      <td>2020-01-15 00:00:00</td>\n",
       "      <td>2020-01-18 00:00:00</td>\n",
       "      <td>2020-01-29 00:00:00</td>\n",
       "      <td>NaN</td>\n",
       "    </tr>\n",
       "    <tr>\n",
       "      <th>Sales PCS</th>\n",
       "      <td>200.0</td>\n",
       "      <td>329.63</td>\n",
       "      <td>2.0</td>\n",
       "      <td>4.0</td>\n",
       "      <td>10.0</td>\n",
       "      <td>100.0</td>\n",
       "      <td>6000.0</td>\n",
       "      <td>943.682647</td>\n",
       "    </tr>\n",
       "    <tr>\n",
       "      <th>Sales Amount</th>\n",
       "      <td>200.0</td>\n",
       "      <td>464747.9</td>\n",
       "      <td>-37050.0</td>\n",
       "      <td>49450.0</td>\n",
       "      <td>150600.0</td>\n",
       "      <td>561825.0</td>\n",
       "      <td>12814000.0</td>\n",
       "      <td>1052895.906387</td>\n",
       "    </tr>\n",
       "    <tr>\n",
       "      <th>Profit Margin</th>\n",
       "      <td>200.0</td>\n",
       "      <td>0.216126</td>\n",
       "      <td>-0.038205</td>\n",
       "      <td>0.098116</td>\n",
       "      <td>0.183055</td>\n",
       "      <td>0.333925</td>\n",
       "      <td>0.89352</td>\n",
       "      <td>0.156682</td>\n",
       "    </tr>\n",
       "  </tbody>\n",
       "</table>\n",
       "</div>"
      ],
      "text/plain": [
       "               count                 mean                  min  \\\n",
       "Date             200  2020-01-16 14:31:12  2020-01-13 00:00:00   \n",
       "Sales PCS      200.0               329.63                  2.0   \n",
       "Sales Amount   200.0             464747.9             -37050.0   \n",
       "Profit Margin  200.0             0.216126            -0.038205   \n",
       "\n",
       "                               25%                  50%                  75%  \\\n",
       "Date           2020-01-13 00:00:00  2020-01-15 00:00:00  2020-01-18 00:00:00   \n",
       "Sales PCS                      4.0                 10.0                100.0   \n",
       "Sales Amount               49450.0             150600.0             561825.0   \n",
       "Profit Margin             0.098116             0.183055             0.333925   \n",
       "\n",
       "                               max             std  \n",
       "Date           2020-01-29 00:00:00             NaN  \n",
       "Sales PCS                   6000.0      943.682647  \n",
       "Sales Amount            12814000.0  1052895.906387  \n",
       "Profit Margin              0.89352        0.156682  "
      ]
     },
     "execution_count": 45,
     "metadata": {},
     "output_type": "execute_result"
    }
   ],
   "source": [
    "df1.describe().T"
   ]
  },
  {
   "cell_type": "code",
   "execution_count": 50,
   "id": "58544ea6-8bb5-45a9-b571-767fbaa0bbff",
   "metadata": {},
   "outputs": [
    {
     "data": {
      "text/plain": [
       "array([  50,  100,   20,  500, 1500, 1000, 3600, 1350,  900,  750, 2000,\n",
       "        480,  300, 3300,  600,  180,    2,    3, 1200, 3000,   15,    5,\n",
       "          6,   10,  250,  150, 1300,   40,  240,  960, 6000,    4,  120,\n",
       "        144,  200,   60,   72,  160,   32,   45,   36,   25, 4000,   16],\n",
       "      dtype=int64)"
      ]
     },
     "execution_count": 50,
     "metadata": {},
     "output_type": "execute_result"
    }
   ],
   "source": [
    "df1['Sales PCS'].unique()"
   ]
  },
  {
   "cell_type": "code",
   "execution_count": 57,
   "id": "25138ae8-4124-4b64-9619-8eee9027f9d3",
   "metadata": {},
   "outputs": [
    {
     "data": {
      "text/plain": [
       "Sales PCS\n",
       "False    197\n",
       "True       3\n",
       "Name: count, dtype: int64"
      ]
     },
     "execution_count": 57,
     "metadata": {},
     "output_type": "execute_result"
    }
   ],
   "source": [
    "(df1['Sales PCS'] == 6000).value_counts()"
   ]
  },
  {
   "cell_type": "code",
   "execution_count": 53,
   "id": "5e9ea735-4b9c-4dc0-8f4a-47bf4abbac6b",
   "metadata": {},
   "outputs": [
    {
     "data": {
      "text/plain": [
       "Sales PCS\n",
       "False    199\n",
       "True       1\n",
       "Name: count, dtype: int64"
      ]
     },
     "execution_count": 53,
     "metadata": {},
     "output_type": "execute_result"
    }
   ],
   "source": [
    "(df1['Sales PCS'] == 3000).value_counts()"
   ]
  },
  {
   "cell_type": "code",
   "execution_count": 55,
   "id": "e28b1ce8-ca59-47e7-82ad-774e7c589d53",
   "metadata": {},
   "outputs": [
    {
     "data": {
      "text/plain": [
       "2"
      ]
     },
     "execution_count": 55,
     "metadata": {},
     "output_type": "execute_result"
    }
   ],
   "source": [
    "df1['Sales PCS'].min()"
   ]
  },
  {
   "cell_type": "code",
   "execution_count": 67,
   "id": "6f5be113-f40c-45a5-b2a4-b3782988738a",
   "metadata": {},
   "outputs": [
    {
     "data": {
      "text/plain": [
       "Channel\n",
       "Big Dealer      152\n",
       "Supermarket      35\n",
       "E-commercial     13\n",
       "Name: count, dtype: int64"
      ]
     },
     "execution_count": 67,
     "metadata": {},
     "output_type": "execute_result"
    }
   ],
   "source": [
    "df1['Channel'].value_counts()"
   ]
  },
  {
   "cell_type": "code",
   "execution_count": 68,
   "id": "18ebe9e0-2063-4f38-8e6d-c46206649f23",
   "metadata": {},
   "outputs": [
    {
     "data": {
      "text/plain": [
       "30"
      ]
     },
     "execution_count": 68,
     "metadata": {},
     "output_type": "execute_result"
    }
   ],
   "source": [
    "df1['Customer'].nunique()"
   ]
  },
  {
   "cell_type": "code",
   "execution_count": 70,
   "id": "d44b2909-94fc-4d92-9231-dfcd6d0ebfc6",
   "metadata": {},
   "outputs": [
    {
     "data": {
      "text/plain": [
       "'eshop'"
      ]
     },
     "execution_count": 70,
     "metadata": {},
     "output_type": "execute_result"
    }
   ],
   "source": [
    "df1.Customer.max()"
   ]
  },
  {
   "cell_type": "code",
   "execution_count": null,
   "id": "0427ae14-1189-4161-8e11-bdeca601a42e",
   "metadata": {},
   "outputs": [],
   "source": []
  },
  {
   "cell_type": "code",
   "execution_count": null,
   "id": "eeddba00-5519-4b84-83e9-d3d2fdcb3ec0",
   "metadata": {},
   "outputs": [],
   "source": []
  }
 ],
 "metadata": {
  "kernelspec": {
   "display_name": "Python 3 (ipykernel)",
   "language": "python",
   "name": "python3"
  },
  "language_info": {
   "codemirror_mode": {
    "name": "ipython",
    "version": 3
   },
   "file_extension": ".py",
   "mimetype": "text/x-python",
   "name": "python",
   "nbconvert_exporter": "python",
   "pygments_lexer": "ipython3",
   "version": "3.11.7"
  }
 },
 "nbformat": 4,
 "nbformat_minor": 5
}
